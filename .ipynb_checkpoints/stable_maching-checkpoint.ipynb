{
 "cells": [
  {
   "cell_type": "markdown",
   "metadata": {},
   "source": [
    "<font size=\"12\" >Gale Shapley</font> <br>\n",
    "<font size=\"4\" >Student: Felipe C.</font>\n"
   ]
  },
  {
   "cell_type": "code",
   "execution_count": 4,
   "metadata": {},
   "outputs": [],
   "source": [
    "import random\n",
    "import numpy as np\n",
    "from copy import deepcopy"
   ]
  },
  {
   "cell_type": "code",
   "execution_count": 99,
   "metadata": {},
   "outputs": [
    {
     "name": "stdout",
     "output_type": "stream",
     "text": [
      "Men's Preferences:\n",
      " [[1, 12, 6, 11, 14, 8, 9, 4, 0, 3, 7, 5, 13, 10, 2], [8, 3, 9, 4, 10, 1, 7, 0, 2, 11, 6, 14, 13, 5, 12], [1, 7, 8, 6, 9, 0, 3, 13, 11, 2, 10, 14, 5, 4, 12], [14, 5, 9, 12, 0, 4, 13, 8, 2, 3, 6, 1, 10, 7, 11], [7, 4, 14, 8, 2, 1, 0, 11, 6, 12, 5, 3, 13, 10, 9], [11, 8, 5, 7, 12, 9, 0, 2, 4, 10, 6, 1, 3, 14, 13], [4, 6, 1, 12, 8, 11, 0, 3, 9, 7, 2, 10, 14, 5, 13], [13, 2, 14, 8, 9, 10, 12, 11, 7, 5, 3, 6, 0, 4, 1], [10, 1, 0, 11, 14, 6, 5, 13, 7, 8, 12, 4, 2, 3, 9], [5, 14, 12, 7, 8, 10, 6, 1, 13, 2, 11, 0, 9, 4, 3], [2, 0, 7, 9, 3, 12, 8, 11, 14, 6, 10, 1, 5, 13, 4], [11, 5, 9, 14, 8, 2, 13, 6, 4, 10, 12, 0, 1, 3, 7], [8, 10, 2, 5, 1, 3, 9, 12, 7, 6, 14, 4, 11, 13, 0], [3, 11, 5, 8, 9, 2, 4, 10, 1, 14, 12, 7, 0, 6, 13], [5, 7, 0, 8, 4, 14, 1, 2, 13, 3, 12, 10, 9, 11, 6]] \n",
      "----------------\n",
      "Women's Preferences:\n",
      " [[13, 11, 0, 5, 8, 3, 14, 4, 1, 12, 10, 9, 6, 7, 2], [7, 0, 5, 14, 6, 8, 10, 11, 2, 9, 13, 1, 4, 12, 3], [8, 9, 13, 12, 4, 3, 14, 2, 5, 7, 0, 11, 1, 6, 10], [1, 11, 10, 6, 8, 12, 14, 4, 0, 13, 7, 3, 5, 9, 2], [7, 9, 2, 8, 11, 1, 13, 6, 14, 0, 5, 10, 3, 12, 4], [9, 8, 6, 3, 2, 11, 5, 1, 14, 4, 12, 10, 0, 13, 7], [13, 6, 7, 10, 2, 3, 14, 11, 8, 5, 9, 1, 12, 0, 4], [7, 5, 12, 13, 9, 8, 4, 0, 6, 3, 11, 1, 10, 2, 14], [13, 0, 9, 14, 10, 4, 3, 8, 6, 2, 1, 12, 7, 11, 5], [11, 8, 6, 1, 14, 4, 10, 9, 7, 5, 13, 12, 0, 3, 2], [5, 11, 14, 9, 12, 4, 10, 7, 2, 1, 8, 0, 3, 13, 6], [12, 2, 7, 3, 0, 6, 8, 1, 10, 9, 14, 4, 11, 5, 13], [2, 4, 8, 3, 12, 5, 11, 14, 10, 0, 1, 13, 6, 9, 7], [1, 2, 10, 13, 8, 11, 12, 14, 3, 6, 7, 4, 0, 9, 5], [8, 4, 3, 11, 0, 7, 9, 13, 1, 5, 12, 14, 10, 2, 6]] \n",
      "----------------\n"
     ]
    }
   ],
   "source": [
    "n = 15      #number of pairs, (man,woman)\n",
    "men_pref = [[*random.sample(range(n), n)] for _ in range(n)]    #men's preferences\n",
    "women_pref = [[*random.sample(range(n), n)] for _ in range(n)]  #women's preferences\n",
    "print(\"Men's Preferences:\\n\",men_pref,\"\\n----------------\")\n",
    "print(\"Women's Preferences:\\n\",women_pref,\"\\n----------------\")\n"
   ]
  },
  {
   "cell_type": "markdown",
   "metadata": {},
   "source": [
    "## Pseudocode for Gale-Shapley Algorithm \n",
    "\n",
    "### Initialize all men and women to free\n",
    "\n",
    " Initialize all men and women as free.\n",
    "\n",
    "### Main Algorithm:\n",
    "```pseudocode\n",
    "While there exists a free man m who still has a woman w to propose to:\n",
    "        w := m's highest ranked such woman to whom he has not yet proposed.\n",
    "        If w is free:\n",
    "             (m, w) become engaged.\n",
    "        Else if some pair (m', w) already exists:\n",
    "             If w prefers m to m':\n",
    "               (m, w) become engaged.\n",
    "                m' becomes free.\n",
    "             Else:\n",
    "            - (m', w) remain engaged.\n"
   ]
  },
  {
   "cell_type": "markdown",
   "metadata": {},
   "source": [
    "## Implementation:"
   ]
  },
  {
   "cell_type": "code",
   "execution_count": 103,
   "metadata": {},
   "outputs": [
    {
     "name": "stdout",
     "output_type": "stream",
     "text": [
      "Men's Preferences:\n",
      " [[1, 12, 6, 11, 14, 8, 9, 4, 0, 3, 7, 5, 13, 10, 2], [8, 3, 9, 4, 10, 1, 7, 0, 2, 11, 6, 14, 13, 5, 12], [1, 7, 8, 6, 9, 0, 3, 13, 11, 2, 10, 14, 5, 4, 12], [14, 5, 9, 12, 0, 4, 13, 8, 2, 3, 6, 1, 10, 7, 11], [7, 4, 14, 8, 2, 1, 0, 11, 6, 12, 5, 3, 13, 10, 9], [11, 8, 5, 7, 12, 9, 0, 2, 4, 10, 6, 1, 3, 14, 13], [4, 6, 1, 12, 8, 11, 0, 3, 9, 7, 2, 10, 14, 5, 13], [13, 2, 14, 8, 9, 10, 12, 11, 7, 5, 3, 6, 0, 4, 1], [10, 1, 0, 11, 14, 6, 5, 13, 7, 8, 12, 4, 2, 3, 9], [5, 14, 12, 7, 8, 10, 6, 1, 13, 2, 11, 0, 9, 4, 3], [2, 0, 7, 9, 3, 12, 8, 11, 14, 6, 10, 1, 5, 13, 4], [11, 5, 9, 14, 8, 2, 13, 6, 4, 10, 12, 0, 1, 3, 7], [8, 10, 2, 5, 1, 3, 9, 12, 7, 6, 14, 4, 11, 13, 0], [3, 11, 5, 8, 9, 2, 4, 10, 1, 14, 12, 7, 0, 6, 13], [5, 7, 0, 8, 4, 14, 1, 2, 13, 3, 12, 10, 9, 11, 6]] \n",
      "----------------\n",
      "Women's Preferences:\n",
      " [[13, 11, 0, 5, 8, 3, 14, 4, 1, 12, 10, 9, 6, 7, 2], [7, 0, 5, 14, 6, 8, 10, 11, 2, 9, 13, 1, 4, 12, 3], [8, 9, 13, 12, 4, 3, 14, 2, 5, 7, 0, 11, 1, 6, 10], [1, 11, 10, 6, 8, 12, 14, 4, 0, 13, 7, 3, 5, 9, 2], [7, 9, 2, 8, 11, 1, 13, 6, 14, 0, 5, 10, 3, 12, 4], [9, 8, 6, 3, 2, 11, 5, 1, 14, 4, 12, 10, 0, 13, 7], [13, 6, 7, 10, 2, 3, 14, 11, 8, 5, 9, 1, 12, 0, 4], [7, 5, 12, 13, 9, 8, 4, 0, 6, 3, 11, 1, 10, 2, 14], [13, 0, 9, 14, 10, 4, 3, 8, 6, 2, 1, 12, 7, 11, 5], [11, 8, 6, 1, 14, 4, 10, 9, 7, 5, 13, 12, 0, 3, 2], [5, 11, 14, 9, 12, 4, 10, 7, 2, 1, 8, 0, 3, 13, 6], [12, 2, 7, 3, 0, 6, 8, 1, 10, 9, 14, 4, 11, 5, 13], [2, 4, 8, 3, 12, 5, 11, 14, 10, 0, 1, 13, 6, 9, 7], [1, 2, 10, 13, 8, 11, 12, 14, 3, 6, 7, 4, 0, 9, 5], [8, 4, 3, 11, 0, 7, 9, 13, 1, 5, 12, 14, 10, 2, 6]] \n",
      "----------------\n",
      "Pairs:\n",
      " [(0, 1), (6, 4), (7, 13), (9, 5), (11, 11), (12, 10), (1, 3), (5, 7), (8, 0), (4, 14), (2, 6), (13, 8), (14, 2), (10, 9), (3, 12)]\n"
     ]
    }
   ],
   "source": [
    "def stable_matching(men_pref,women_pref):\n",
    "    n = len(men_pref)\n",
    "    pairs = []  # Lista de pares formados\n",
    "    free_men = [i for i in range(n)]     #inicialize the free man\n",
    "    free_women = [i for i in range(n)]   #inicialize the free woman\n",
    "\n",
    "    \n",
    "    men_pref = deepcopy(men_pref)\n",
    "    women_pref = deepcopy(women_pref)\n",
    "    # While there are free men\n",
    "    while len(free_men)>0:\n",
    "         # Take the first free man\n",
    "        men = free_men.pop(0)\n",
    "        prospect_woman = men_pref[men].pop(0)  # Get the highest-ranked woman to whom he has not yet proposed\n",
    "        if prospect_woman in free_women:\n",
    "            \n",
    "            # If the woman is free, pair them\n",
    "            free_women.remove(prospect_woman)\n",
    "            pairs.append((men,prospect_woman))\n",
    "        else:\n",
    "             # If the woman is not free, find her current partner\n",
    "            rival = next((couple[0] for couple in pairs if couple[1] == prospect_woman), None)\n",
    "            # Check if the woman prefers the new man over her current partner\n",
    "            if women_pref[prospect_woman].index(men) > women_pref[prospect_woman].index(rival):\n",
    "                free_men.append(men)\n",
    "            else:\n",
    "                # If she prefers the new man, make the current partner free\n",
    "                free_men.append(rival)\n",
    "                pairs.remove((rival,prospect_woman))\n",
    "                pairs.append((men,prospect_woman))\n",
    "\n",
    "    return pairs\n",
    "\n",
    "\n",
    "    \n",
    "pairs = stable_matching(men_pref,women_pref)\n",
    "print(\"Men's Preferences:\\n\",men_pref,\"\\n----------------\")\n",
    "print(\"Women's Preferences:\\n\",women_pref,\"\\n----------------\")\n",
    "print(\"Pairs:\\n\",pairs)"
   ]
  },
  {
   "cell_type": "code",
   "execution_count": 104,
   "metadata": {},
   "outputs": [
    {
     "name": "stdout",
     "output_type": "stream",
     "text": [
      "Men's Preferences:\n",
      " [[1, 12, 6, 11, 14, 8, 9, 4, 0, 3, 7, 5, 13, 10, 2], [8, 3, 9, 4, 10, 1, 7, 0, 2, 11, 6, 14, 13, 5, 12], [1, 7, 8, 6, 9, 0, 3, 13, 11, 2, 10, 14, 5, 4, 12], [14, 5, 9, 12, 0, 4, 13, 8, 2, 3, 6, 1, 10, 7, 11], [7, 4, 14, 8, 2, 1, 0, 11, 6, 12, 5, 3, 13, 10, 9], [11, 8, 5, 7, 12, 9, 0, 2, 4, 10, 6, 1, 3, 14, 13], [4, 6, 1, 12, 8, 11, 0, 3, 9, 7, 2, 10, 14, 5, 13], [13, 2, 14, 8, 9, 10, 12, 11, 7, 5, 3, 6, 0, 4, 1], [10, 1, 0, 11, 14, 6, 5, 13, 7, 8, 12, 4, 2, 3, 9], [5, 14, 12, 7, 8, 10, 6, 1, 13, 2, 11, 0, 9, 4, 3], [2, 0, 7, 9, 3, 12, 8, 11, 14, 6, 10, 1, 5, 13, 4], [11, 5, 9, 14, 8, 2, 13, 6, 4, 10, 12, 0, 1, 3, 7], [8, 10, 2, 5, 1, 3, 9, 12, 7, 6, 14, 4, 11, 13, 0], [3, 11, 5, 8, 9, 2, 4, 10, 1, 14, 12, 7, 0, 6, 13], [5, 7, 0, 8, 4, 14, 1, 2, 13, 3, 12, 10, 9, 11, 6]] \n",
      "----------------\n",
      "Women's Preferences:\n",
      " [[13, 11, 0, 5, 8, 3, 14, 4, 1, 12, 10, 9, 6, 7, 2], [7, 0, 5, 14, 6, 8, 10, 11, 2, 9, 13, 1, 4, 12, 3], [8, 9, 13, 12, 4, 3, 14, 2, 5, 7, 0, 11, 1, 6, 10], [1, 11, 10, 6, 8, 12, 14, 4, 0, 13, 7, 3, 5, 9, 2], [7, 9, 2, 8, 11, 1, 13, 6, 14, 0, 5, 10, 3, 12, 4], [9, 8, 6, 3, 2, 11, 5, 1, 14, 4, 12, 10, 0, 13, 7], [13, 6, 7, 10, 2, 3, 14, 11, 8, 5, 9, 1, 12, 0, 4], [7, 5, 12, 13, 9, 8, 4, 0, 6, 3, 11, 1, 10, 2, 14], [13, 0, 9, 14, 10, 4, 3, 8, 6, 2, 1, 12, 7, 11, 5], [11, 8, 6, 1, 14, 4, 10, 9, 7, 5, 13, 12, 0, 3, 2], [5, 11, 14, 9, 12, 4, 10, 7, 2, 1, 8, 0, 3, 13, 6], [12, 2, 7, 3, 0, 6, 8, 1, 10, 9, 14, 4, 11, 5, 13], [2, 4, 8, 3, 12, 5, 11, 14, 10, 0, 1, 13, 6, 9, 7], [1, 2, 10, 13, 8, 11, 12, 14, 3, 6, 7, 4, 0, 9, 5], [8, 4, 3, 11, 0, 7, 9, 13, 1, 5, 12, 14, 10, 2, 6]] \n",
      "----------------\n",
      "Pairs:\n",
      " [(0, 1), (6, 4), (7, 13), (9, 5), (11, 11), (12, 10), (1, 3), (5, 7), (8, 0), (4, 14), (2, 6), (13, 8), (14, 2), (10, 9), (3, 12)]\n",
      "Is stable: True\n"
     ]
    }
   ],
   "source": [
    "def is_stable(pairs, men_pref, women_pref):\n",
    "    n = len(men_pref)\n",
    "    \n",
    "    # to easely find partner\n",
    "    man_partner = {man: woman for man, woman in pairs}\n",
    "    woman_partner = {woman: man for man, woman in pairs}\n",
    "    \n",
    "    for man in range(n):\n",
    "        woman = man_partner[man]\n",
    "        \n",
    "        current_partner_index = men_pref[man].index(woman)\n",
    "        \n",
    "        # verify all woman that man prefers more than current partner\n",
    "        for preferred_woman in men_pref[man][:current_partner_index]:\n",
    "            current_partner_of_preferred_woman = woman_partner[preferred_woman]\n",
    "            \n",
    "            preferred_man_index = women_pref[preferred_woman].index(man)\n",
    "            current_partner_index = women_pref[preferred_woman].index(current_partner_of_preferred_woman)\n",
    "            \n",
    "            #If the woman also prefers this man, the couple is not stable\n",
    "\n",
    "            if preferred_man_index < current_partner_index:\n",
    "                return False\n",
    "    \n",
    "    return True\n",
    "\n",
    "print(\"Men's Preferences:\\n\", men_pref, \"\\n----------------\")\n",
    "print(\"Women's Preferences:\\n\", women_pref, \"\\n----------------\")\n",
    "print(\"Pairs:\\n\", pairs)\n",
    "print(\"Is stable:\", is_stable(pairs, men_pref, women_pref))\n"
   ]
  },
  {
   "cell_type": "markdown",
   "metadata": {},
   "source": [
    "Therefore, the algorithm was rightly implemented, as verified by our thorough examination that all pairs are stable. "
   ]
  }
 ],
 "metadata": {
  "kernelspec": {
   "display_name": "Python 3",
   "language": "python",
   "name": "python3"
  },
  "language_info": {
   "codemirror_mode": {
    "name": "ipython",
    "version": 3
   },
   "file_extension": ".py",
   "mimetype": "text/x-python",
   "name": "python",
   "nbconvert_exporter": "python",
   "pygments_lexer": "ipython3",
   "version": "3.10.12"
  }
 },
 "nbformat": 4,
 "nbformat_minor": 2
}
