{
 "cells": [
  {
   "cell_type": "markdown",
   "metadata": {},
   "source": [
    "<font size=\"12\" color=\"blue\">Gale Shapley</font> <br>\n",
    "<font size=\"4\" color=\"blue\">Student: Felipe C.</font>\n"
   ]
  },
  {
   "cell_type": "code",
   "execution_count": 1,
   "metadata": {},
   "outputs": [],
   "source": [
    "import random\n",
    "import numpy as np"
   ]
  },
  {
   "cell_type": "code",
   "execution_count": 89,
   "metadata": {},
   "outputs": [
    {
     "name": "stdout",
     "output_type": "stream",
     "text": [
      "Men's Preferences:\n",
      " [[1, 2, 0], [2, 0, 1], [0, 2, 1]] \n",
      "----------------\n",
      "Women's Preferences:\n",
      " [[0, 1, 2], [2, 0, 1], [0, 2, 1]] \n",
      "----------------\n"
     ]
    }
   ],
   "source": [
    "#number of pairs\n",
    "n = 3 \n",
    "men_pref = [[*random.sample(range(n), n)] for _ in range(n)]\n",
    "women_pref = [[*random.sample(range(n), n)] for _ in range(n)]\n",
    "print(\"Men's Preferences:\\n\",men_pref,\"\\n----------------\")\n",
    "print(\"Women's Preferences:\\n\",women_pref,\"\\n----------------\")\n",
    "free_men = [i for i in range(n)]\n",
    "free_women = [i for i in range(n)]\n",
    "pairs = []"
   ]
  },
  {
   "cell_type": "code",
   "execution_count": 90,
   "metadata": {},
   "outputs": [
    {
     "name": "stdout",
     "output_type": "stream",
     "text": [
      "[(0, 1), (2, 0), (1, 2)]\n"
     ]
    }
   ],
   "source": [
    "def stable_matching(men_pref,women_pref):\n",
    "    while len(free_men)>0:\n",
    "        for men in free_men:\n",
    "            prospect_woman = men_pref[men].pop(0)\n",
    "            if prospect_woman in free_women:\n",
    "                free_women.remove(prospect_woman)\n",
    "                free_men.remove(men)\n",
    "                pairs.append((men,prospect_woman))\n",
    "            else:\n",
    "                rival = next((couple[0] for couple in pairs if couple[1] == prospect_woman), None)\n",
    "                if women_pref[prospect_woman].index(men) > women_pref[prospect_woman].index(rival):\n",
    "                    pass\n",
    "                else:\n",
    "                    free_men.remove(men)\n",
    "                    free_men.append(rival)\n",
    "                    pairs.remove((rival,prospect_woman))\n",
    "                    pairs.append((men,prospect_woman))\n",
    "  \n",
    "\n",
    "    \n",
    "stable_matching(men_pref,women_pref)\n",
    "print(pairs)"
   ]
  },
  {
   "cell_type": "code",
   "execution_count": null,
   "metadata": {},
   "outputs": [],
   "source": []
  }
 ],
 "metadata": {
  "kernelspec": {
   "display_name": "Python 3",
   "language": "python",
   "name": "python3"
  },
  "language_info": {
   "codemirror_mode": {
    "name": "ipython",
    "version": 3
   },
   "file_extension": ".py",
   "mimetype": "text/x-python",
   "name": "python",
   "nbconvert_exporter": "python",
   "pygments_lexer": "ipython3",
   "version": "3.10.12"
  }
 },
 "nbformat": 4,
 "nbformat_minor": 2
}
