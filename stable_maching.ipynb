{
 "cells": [
  {
   "cell_type": "markdown",
   "metadata": {},
   "source": [
    "<font size=\"12\" >Gale Shapley</font> <br>\n",
    "<font size=\"4\" >Student: Felipe C.</font>\n"
   ]
  },
  {
   "cell_type": "code",
   "execution_count": 3,
   "metadata": {},
   "outputs": [],
   "source": [
    "import random\n",
    "import numpy as np\n",
    "from copy import deepcopy"
   ]
  },
  {
   "cell_type": "markdown",
   "metadata": {},
   "source": [
    "## Overview\n",
    "The given code implements the Stable Marriage Problem using the Gale-Shapley algorithm. This algorithm is designed to find a stable matching between two sets of participants, in this case, men and women, based on their preferences.\n",
    "\n",
    "## Initialization\n",
    "- Number of Pairs: The variable n is set to 15, representing the number of men and women (i.e., 15 pairs).\n",
    "\n",
    "- Preferences Generation:\n",
    "\n",
    "    - Men's Preferences: A list of lists, men_pref, is generated where each sublist contains a random permutation of women indices (0 to n-1), representing the preferences of each man.\n",
    "    - Women's Preferences: Similarly, women_pref is a list of lists where each sublist contains a random permutation of men indices, representing the preferences of each woman."
   ]
  },
  {
   "cell_type": "code",
   "execution_count": 4,
   "metadata": {},
   "outputs": [
    {
     "name": "stdout",
     "output_type": "stream",
     "text": [
      "Men's Preferences:\n",
      " [[7, 13, 14, 4, 5, 11, 10, 0, 6, 2, 1, 3, 9, 8, 12], [12, 2, 10, 1, 7, 0, 5, 3, 8, 6, 4, 13, 14, 11, 9], [6, 1, 14, 5, 8, 13, 10, 4, 0, 11, 7, 9, 3, 12, 2], [4, 12, 1, 11, 3, 13, 7, 9, 5, 10, 14, 2, 6, 8, 0], [4, 10, 7, 2, 3, 11, 0, 9, 14, 5, 13, 12, 6, 1, 8], [11, 10, 4, 14, 2, 6, 0, 13, 1, 3, 7, 9, 8, 12, 5], [12, 2, 1, 3, 0, 7, 11, 10, 13, 5, 14, 8, 9, 6, 4], [6, 5, 10, 13, 11, 7, 3, 0, 12, 14, 8, 4, 1, 9, 2], [5, 6, 10, 13, 9, 4, 7, 12, 8, 0, 2, 3, 14, 1, 11], [6, 3, 5, 4, 0, 8, 2, 12, 13, 10, 14, 1, 11, 9, 7], [14, 5, 1, 13, 12, 4, 8, 10, 0, 2, 11, 9, 6, 3, 7], [3, 13, 8, 7, 12, 14, 10, 11, 6, 4, 5, 0, 1, 9, 2], [8, 2, 14, 10, 11, 5, 12, 7, 9, 3, 13, 6, 4, 1, 0], [13, 1, 0, 4, 5, 8, 9, 7, 6, 10, 14, 2, 12, 11, 3], [4, 5, 7, 12, 1, 11, 0, 13, 9, 8, 10, 2, 3, 14, 6]] \n",
      "----------------\n",
      "Women's Preferences:\n",
      " [[12, 4, 13, 14, 9, 7, 6, 10, 11, 8, 0, 5, 2, 1, 3], [1, 8, 13, 4, 14, 9, 7, 12, 0, 11, 3, 5, 10, 6, 2], [10, 7, 11, 0, 1, 2, 5, 6, 8, 3, 12, 14, 4, 9, 13], [6, 3, 5, 0, 2, 14, 1, 4, 8, 10, 11, 9, 12, 13, 7], [10, 4, 13, 8, 14, 12, 11, 0, 7, 9, 2, 1, 6, 3, 5], [11, 10, 13, 2, 9, 14, 12, 8, 4, 1, 5, 7, 0, 3, 6], [8, 0, 1, 7, 13, 10, 5, 11, 2, 12, 14, 4, 3, 9, 6], [13, 7, 12, 8, 9, 6, 11, 1, 4, 3, 10, 5, 14, 0, 2], [6, 0, 11, 4, 3, 9, 5, 8, 12, 7, 13, 2, 14, 10, 1], [14, 13, 9, 8, 5, 2, 0, 7, 10, 4, 6, 11, 3, 1, 12], [14, 10, 1, 0, 8, 2, 3, 6, 4, 7, 13, 9, 11, 12, 5], [13, 8, 4, 7, 9, 5, 12, 10, 14, 11, 0, 6, 2, 1, 3], [14, 1, 5, 13, 9, 11, 7, 3, 2, 10, 4, 8, 12, 0, 6], [8, 10, 13, 4, 0, 5, 12, 11, 7, 9, 14, 1, 3, 6, 2], [8, 7, 13, 9, 12, 11, 3, 1, 2, 10, 5, 6, 14, 4, 0]] \n",
      "----------------\n"
     ]
    }
   ],
   "source": [
    "n = 15      #number of pairs, (man,woman)\n",
    "men_pref = [[*random.sample(range(n), n)] for _ in range(n)]    #men's preferences\n",
    "women_pref = [[*random.sample(range(n), n)] for _ in range(n)]  #women's preferences\n",
    "print(\"Men's Preferences:\\n\",men_pref,\"\\n----------------\")\n",
    "print(\"Women's Preferences:\\n\",women_pref,\"\\n----------------\")\n"
   ]
  },
  {
   "cell_type": "markdown",
   "metadata": {},
   "source": [
    "## Pseudocode for Gale-Shapley Algorithm \n",
    "\n",
    "### Initialize all men and women to free\n",
    "\n",
    " Initialize all men and women as free.\n",
    "\n",
    "### Main Algorithm:\n",
    "```pseudocode\n",
    "While there exists a free man m who still has a woman w to propose to:\n",
    "        w := m's highest ranked such woman to whom he has not yet proposed.\n",
    "        If w is free:\n",
    "             (m, w) become engaged.\n",
    "        Else if some pair (m', w) already exists:\n",
    "             If w prefers m to m':\n",
    "               (m, w) become engaged.\n",
    "                m' becomes free.\n",
    "             Else:\n",
    "            - (m', w) remain engaged.\n"
   ]
  },
  {
   "cell_type": "markdown",
   "metadata": {},
   "source": [
    "## Implementation:"
   ]
  },
  {
   "cell_type": "code",
   "execution_count": 5,
   "metadata": {},
   "outputs": [
    {
     "name": "stdout",
     "output_type": "stream",
     "text": [
      "Men's Preferences:\n",
      " [[7, 13, 14, 4, 5, 11, 10, 0, 6, 2, 1, 3, 9, 8, 12], [12, 2, 10, 1, 7, 0, 5, 3, 8, 6, 4, 13, 14, 11, 9], [6, 1, 14, 5, 8, 13, 10, 4, 0, 11, 7, 9, 3, 12, 2], [4, 12, 1, 11, 3, 13, 7, 9, 5, 10, 14, 2, 6, 8, 0], [4, 10, 7, 2, 3, 11, 0, 9, 14, 5, 13, 12, 6, 1, 8], [11, 10, 4, 14, 2, 6, 0, 13, 1, 3, 7, 9, 8, 12, 5], [12, 2, 1, 3, 0, 7, 11, 10, 13, 5, 14, 8, 9, 6, 4], [6, 5, 10, 13, 11, 7, 3, 0, 12, 14, 8, 4, 1, 9, 2], [5, 6, 10, 13, 9, 4, 7, 12, 8, 0, 2, 3, 14, 1, 11], [6, 3, 5, 4, 0, 8, 2, 12, 13, 10, 14, 1, 11, 9, 7], [14, 5, 1, 13, 12, 4, 8, 10, 0, 2, 11, 9, 6, 3, 7], [3, 13, 8, 7, 12, 14, 10, 11, 6, 4, 5, 0, 1, 9, 2], [8, 2, 14, 10, 11, 5, 12, 7, 9, 3, 13, 6, 4, 1, 0], [13, 1, 0, 4, 5, 8, 9, 7, 6, 10, 14, 2, 12, 11, 3], [4, 5, 7, 12, 1, 11, 0, 13, 9, 8, 10, 2, 3, 14, 6]] \n",
      "----------------\n",
      "Women's Preferences:\n",
      " [[12, 4, 13, 14, 9, 7, 6, 10, 11, 8, 0, 5, 2, 1, 3], [1, 8, 13, 4, 14, 9, 7, 12, 0, 11, 3, 5, 10, 6, 2], [10, 7, 11, 0, 1, 2, 5, 6, 8, 3, 12, 14, 4, 9, 13], [6, 3, 5, 0, 2, 14, 1, 4, 8, 10, 11, 9, 12, 13, 7], [10, 4, 13, 8, 14, 12, 11, 0, 7, 9, 2, 1, 6, 3, 5], [11, 10, 13, 2, 9, 14, 12, 8, 4, 1, 5, 7, 0, 3, 6], [8, 0, 1, 7, 13, 10, 5, 11, 2, 12, 14, 4, 3, 9, 6], [13, 7, 12, 8, 9, 6, 11, 1, 4, 3, 10, 5, 14, 0, 2], [6, 0, 11, 4, 3, 9, 5, 8, 12, 7, 13, 2, 14, 10, 1], [14, 13, 9, 8, 5, 2, 0, 7, 10, 4, 6, 11, 3, 1, 12], [14, 10, 1, 0, 8, 2, 3, 6, 4, 7, 13, 9, 11, 12, 5], [13, 8, 4, 7, 9, 5, 12, 10, 14, 11, 0, 6, 2, 1, 3], [14, 1, 5, 13, 9, 11, 7, 3, 2, 10, 4, 8, 12, 0, 6], [8, 10, 13, 4, 0, 5, 12, 11, 7, 9, 14, 1, 3, 6, 2], [8, 7, 13, 9, 12, 11, 3, 1, 2, 10, 5, 6, 14, 4, 0]] \n",
      "----------------\n",
      "Pairs:\n",
      " [(1, 12), (4, 4), (13, 13), (3, 1), (8, 6), (14, 7), (10, 5), (9, 0), (0, 10), (7, 11), (5, 2), (6, 3), (11, 8), (12, 14), (2, 9)]\n"
     ]
    }
   ],
   "source": [
    "def stable_matching(men_pref,women_pref):\n",
    "    n = len(men_pref)\n",
    "    pairs = []  # Lista de pares formados\n",
    "    free_men = [i for i in range(n)]     #inicialize the free man\n",
    "    free_women = [i for i in range(n)]   #inicialize the free woman\n",
    "\n",
    "    \n",
    "    men_pref = deepcopy(men_pref)\n",
    "    women_pref = deepcopy(women_pref)\n",
    "    # While there are free men\n",
    "    while len(free_men)>0:\n",
    "         # Take the first free man\n",
    "        men = free_men.pop(0)\n",
    "        prospect_woman = men_pref[men].pop(0)  # Get the highest-ranked woman to whom he has not yet proposed\n",
    "        if prospect_woman in free_women:\n",
    "            \n",
    "            # If the woman is free, pair them\n",
    "            free_women.remove(prospect_woman)\n",
    "            pairs.append((men,prospect_woman))\n",
    "        else:\n",
    "             # If the woman is not free, find her current partner\n",
    "            rival = next((couple[0] for couple in pairs if couple[1] == prospect_woman), None)\n",
    "            # Check if the woman prefers the new man over her current partner\n",
    "            if women_pref[prospect_woman].index(men) > women_pref[prospect_woman].index(rival):\n",
    "                free_men.append(men)\n",
    "            else:\n",
    "                # If she prefers the new man, make the current partner free\n",
    "                free_men.append(rival)\n",
    "                pairs.remove((rival,prospect_woman))\n",
    "                pairs.append((men,prospect_woman))\n",
    "\n",
    "    return pairs\n",
    "\n",
    "\n",
    "    \n",
    "pairs = stable_matching(men_pref,women_pref)\n",
    "print(\"Men's Preferences:\\n\",men_pref,\"\\n----------------\")\n",
    "print(\"Women's Preferences:\\n\",women_pref,\"\\n----------------\")\n",
    "print(\"Pairs:\\n\",pairs)"
   ]
  },
  {
   "cell_type": "markdown",
   "metadata": {},
   "source": [
    "## Output\n",
    "- The output pairs represent the final stable matches between men and women based on their preferences. Each pair is a tuple where the first element is a man and the second element is a woman. These pairs are stable, meaning that no man and woman would both prefer each other over their current partners.For example, a pair (0, 3) indicates that man 0 is matched with woman 3\n",
    "\n",
    "## Verification:\n",
    "\n",
    "- The function is_stable verfies if the output generated by the implemented algorithm is correct, by iterating through each man to verify the stability of his pairing. For each man, it retrieves his current partner and checks all the women he prefers more than his current partner. During the preference comparison, for each preferred woman (those ranked higher than the current partner in the man's preference list), the function finds the current partner of this preferred woman. It then compares the indices of the man and the current partner in the woman's preference list. If the preferred woman prefers the man over her current partner, the matching is unstable, and the function returns False. If no such preference inversions are found for any man, the function confirms the matching is stable and returns True."
   ]
  },
  {
   "cell_type": "code",
   "execution_count": 8,
   "metadata": {},
   "outputs": [
    {
     "name": "stdout",
     "output_type": "stream",
     "text": [
      "Men's Preferences:\n",
      " [[7, 13, 14, 4, 5, 11, 10, 0, 6, 2, 1, 3, 9, 8, 12], [12, 2, 10, 1, 7, 0, 5, 3, 8, 6, 4, 13, 14, 11, 9], [6, 1, 14, 5, 8, 13, 10, 4, 0, 11, 7, 9, 3, 12, 2], [4, 12, 1, 11, 3, 13, 7, 9, 5, 10, 14, 2, 6, 8, 0], [4, 10, 7, 2, 3, 11, 0, 9, 14, 5, 13, 12, 6, 1, 8], [11, 10, 4, 14, 2, 6, 0, 13, 1, 3, 7, 9, 8, 12, 5], [12, 2, 1, 3, 0, 7, 11, 10, 13, 5, 14, 8, 9, 6, 4], [6, 5, 10, 13, 11, 7, 3, 0, 12, 14, 8, 4, 1, 9, 2], [5, 6, 10, 13, 9, 4, 7, 12, 8, 0, 2, 3, 14, 1, 11], [6, 3, 5, 4, 0, 8, 2, 12, 13, 10, 14, 1, 11, 9, 7], [14, 5, 1, 13, 12, 4, 8, 10, 0, 2, 11, 9, 6, 3, 7], [3, 13, 8, 7, 12, 14, 10, 11, 6, 4, 5, 0, 1, 9, 2], [8, 2, 14, 10, 11, 5, 12, 7, 9, 3, 13, 6, 4, 1, 0], [13, 1, 0, 4, 5, 8, 9, 7, 6, 10, 14, 2, 12, 11, 3], [4, 5, 7, 12, 1, 11, 0, 13, 9, 8, 10, 2, 3, 14, 6]] \n",
      "----------------\n",
      "Women's Preferences:\n",
      " [[12, 4, 13, 14, 9, 7, 6, 10, 11, 8, 0, 5, 2, 1, 3], [1, 8, 13, 4, 14, 9, 7, 12, 0, 11, 3, 5, 10, 6, 2], [10, 7, 11, 0, 1, 2, 5, 6, 8, 3, 12, 14, 4, 9, 13], [6, 3, 5, 0, 2, 14, 1, 4, 8, 10, 11, 9, 12, 13, 7], [10, 4, 13, 8, 14, 12, 11, 0, 7, 9, 2, 1, 6, 3, 5], [11, 10, 13, 2, 9, 14, 12, 8, 4, 1, 5, 7, 0, 3, 6], [8, 0, 1, 7, 13, 10, 5, 11, 2, 12, 14, 4, 3, 9, 6], [13, 7, 12, 8, 9, 6, 11, 1, 4, 3, 10, 5, 14, 0, 2], [6, 0, 11, 4, 3, 9, 5, 8, 12, 7, 13, 2, 14, 10, 1], [14, 13, 9, 8, 5, 2, 0, 7, 10, 4, 6, 11, 3, 1, 12], [14, 10, 1, 0, 8, 2, 3, 6, 4, 7, 13, 9, 11, 12, 5], [13, 8, 4, 7, 9, 5, 12, 10, 14, 11, 0, 6, 2, 1, 3], [14, 1, 5, 13, 9, 11, 7, 3, 2, 10, 4, 8, 12, 0, 6], [8, 10, 13, 4, 0, 5, 12, 11, 7, 9, 14, 1, 3, 6, 2], [8, 7, 13, 9, 12, 11, 3, 1, 2, 10, 5, 6, 14, 4, 0]] \n",
      "----------------\n",
      "Pairs:\n",
      " [(1, 12), (4, 4), (13, 13), (3, 1), (8, 6), (14, 7), (10, 5), (9, 0), (0, 10), (7, 11), (5, 2), (6, 3), (11, 8), (12, 14), (2, 9)]\n",
      "\n",
      " Is stable: True\n"
     ]
    }
   ],
   "source": [
    "def is_stable(pairs, men_pref, women_pref):\n",
    "    n = len(men_pref)\n",
    "    \n",
    "    # to easely find partner\n",
    "    man_partner = {man: woman for man, woman in pairs}\n",
    "    woman_partner = {woman: man for man, woman in pairs}\n",
    "    \n",
    "    for man in range(n):\n",
    "        woman = man_partner[man]\n",
    "        \n",
    "        current_partner_index = men_pref[man].index(woman)\n",
    "        \n",
    "        # verify all woman that man prefers more than current partner\n",
    "        for preferred_woman in men_pref[man][:current_partner_index]:\n",
    "            current_partner_of_preferred_woman = woman_partner[preferred_woman]\n",
    "            \n",
    "            preferred_man_index = women_pref[preferred_woman].index(man)\n",
    "            current_partner_index = women_pref[preferred_woman].index(current_partner_of_preferred_woman)\n",
    "            \n",
    "            #If the woman also prefers this man, the couple is not stable\n",
    "\n",
    "            if preferred_man_index < current_partner_index:\n",
    "                return False\n",
    "    \n",
    "    return True\n",
    "\n",
    "print(\"Men's Preferences:\\n\", men_pref, \"\\n----------------\")\n",
    "print(\"Women's Preferences:\\n\", women_pref, \"\\n----------------\")\n",
    "print(\"Pairs:\\n\", pairs)\n",
    "print(\"\\n Is stable:\", is_stable(pairs, men_pref, women_pref))\n"
   ]
  },
  {
   "cell_type": "markdown",
   "metadata": {},
   "source": [
    "Therefore, the algorithm was rightly implemented. As verified by the examination, all pairs are stable. "
   ]
  }
 ],
 "metadata": {
  "kernelspec": {
   "display_name": "Python 3",
   "language": "python",
   "name": "python3"
  },
  "language_info": {
   "codemirror_mode": {
    "name": "ipython",
    "version": 3
   },
   "file_extension": ".py",
   "mimetype": "text/x-python",
   "name": "python",
   "nbconvert_exporter": "python",
   "pygments_lexer": "ipython3",
   "version": "3.10.12"
  }
 },
 "nbformat": 4,
 "nbformat_minor": 2
}
